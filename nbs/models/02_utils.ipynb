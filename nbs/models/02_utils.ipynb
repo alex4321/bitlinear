{
 "cells": [
  {
   "cell_type": "code",
   "execution_count": null,
   "metadata": {},
   "outputs": [],
   "source": [
    "#| default_exp models.utils"
   ]
  },
  {
   "cell_type": "code",
   "execution_count": null,
   "metadata": {},
   "outputs": [],
   "source": [
    "#| export\n",
    "from typing import Union\n",
    "import torch"
   ]
  },
  {
   "cell_type": "code",
   "execution_count": null,
   "metadata": {},
   "outputs": [],
   "source": [
    "#| export\n",
    "def get_submodule(base: Union[None, torch.nn.Module], name: str) -> Union[None, torch.nn.Module]:\n",
    "    if base is None:\n",
    "        return None\n",
    "    return getattr(base, name)"
   ]
  },
  {
   "cell_type": "code",
   "execution_count": null,
   "metadata": {},
   "outputs": [],
   "source": [
    "#| export\n",
    "def initialize_state(layer: torch.nn.Module, base: Union[None, torch.nn.Module]) -> torch.nn.Module:\n",
    "    if base is not None:\n",
    "        assert isinstance(layer, type(base)), \"layer should have the same type as base layer\"\n",
    "        layer.load_state_dict(base.state_dict())\n",
    "    return layer"
   ]
  },
  {
   "cell_type": "code",
   "execution_count": null,
   "metadata": {},
   "outputs": [],
   "source": [
    "class TestContainer(torch.nn.Module):\n",
    "    def __init__(self):\n",
    "        torch.nn.Module.__init__(self)\n",
    "        self.submodule = torch.nn.Linear(10, 20)\n",
    "\n",
    "\n",
    "assert get_submodule(None, \"submodule\") is None\n",
    "base = TestContainer()\n",
    "assert get_submodule(base, \"submodule\") is base.submodule"
   ]
  },
  {
   "cell_type": "code",
   "execution_count": null,
   "metadata": {},
   "outputs": [],
   "source": [
    "linear0 = torch.nn.Linear(10, 20)\n",
    "linear1 = initialize_state(\n",
    "    torch.nn.Linear(10, 20),\n",
    "    linear0\n",
    ")\n",
    "assert torch.abs(linear0.weight - linear1.weight).max() < 1e-6\n",
    "assert torch.abs(linear0.bias - linear1.bias).max() < 1e-6"
   ]
  },
  {
   "cell_type": "code",
   "execution_count": null,
   "metadata": {},
   "outputs": [],
   "source": [
    "#| hide\n",
    "import nbdev; nbdev.nbdev_export()"
   ]
  }
 ],
 "metadata": {
  "kernelspec": {
   "display_name": "python3",
   "language": "python",
   "name": "python3"
  }
 },
 "nbformat": 4,
 "nbformat_minor": 2
}
